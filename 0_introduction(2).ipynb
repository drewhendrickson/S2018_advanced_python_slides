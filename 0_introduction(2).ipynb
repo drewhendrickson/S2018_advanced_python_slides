{
 "cells": [
  {
   "cell_type": "markdown",
   "metadata": {
    "collapsed": true,
    "slideshow": {
     "slide_type": "slide"
    }
   },
   "source": [
    "# Data Processing Advanced\n",
    "\n",
    "- Introduction to the most important Python libraries for scientific research\n",
    "  - Data preparaton, conversion, and manipulation\n",
    "  - Data analysis\n",
    "  - Data visualization\n",
    "  - some basic Machine Learning\n",
    "- Enable you to use Python for your research"
   ]
  },
  {
   "cell_type": "markdown",
   "metadata": {
    "slideshow": {
     "slide_type": "slide"
    }
   },
   "source": [
    "# Instructor\n",
    "\n",
    "- Drew Hendrickson  <img src=\"https://lyrawww.uvt.nl/~meetourstaff/imgs/dci/hendrickson.jpg\" style=\"width: 150px; float:right\"/>\n",
    "   - Office: D335 in Dante Building\n",
    "   - Office hours: Tuesday 11:00 to 12:00 in the Deprez building (or by appointment)\n",
    "   - Email: a.hendrickson@tilburguniversity.edu\n",
    "   - All questions about course content should be posted to the Forum on Blackboard\n"
   ]
  },
  {
   "cell_type": "markdown",
   "metadata": {
    "collapsed": true,
    "slideshow": {
     "slide_type": "slide"
    }
   },
   "source": [
    "# Prerequisites and related courses\n",
    "\n",
    "- Knowledge of basic Python is required (**RS: Data Processing**)\n",
    "- **Machine Learning** will build on DPA\n"
   ]
  },
  {
   "cell_type": "markdown",
   "metadata": {
    "slideshow": {
     "slide_type": "slide"
    }
   },
   "source": [
    "# Assessment\n",
    "\n",
    "- Individual programming assignment 1 (15%): due May 1st at 14:00.\n",
    "    - There is no resit available for this assignment.\n",
    "- Individual programming assignment 2 (35%): due June 5th at 14:00.\n",
    "    - The resit for this assignment will be due June 29th at 17:00.\n",
    "- Group programming assignment (50%): due June 22nd at 17:00.\n",
    "    - There is no resit available for this assignment.\n",
    "- Details for each assignment will be announced via blackboard\n",
    "- We will check for and report plagiarism on all assignments."
   ]
  },
  {
   "cell_type": "markdown",
   "metadata": {
    "slideshow": {
     "slide_type": "slide"
    }
   },
   "source": [
    "# Schedule\n",
    "\n",
    "- There are two sessions for this course: Tuesday afternoon in the Deprez building and Wednesday morning on campus. Please sign up for one session time on Blackboard and consistently attend that session.\n",
    "- Assignments are due on days when the lecture does not meet. Please be sure to closely inspect the schedule on Blackboard and look for any changes on the Annoucements section there."
   ]
  },
  {
   "cell_type": "markdown",
   "metadata": {
    "slideshow": {
     "slide_type": "slide"
    }
   },
   "source": [
    "# Course forum\n",
    "\n",
    "- Subscribe to the course forum on Blackboard\n",
    "- Post any question/comments regarding course content or organization there\n",
    "- Try to answer your colleagues questions\n",
    "- Only contact the instructors via email with private matters\n"
   ]
  }
 ],
 "metadata": {
  "kernelspec": {
   "display_name": "Python 3",
   "language": "python",
   "name": "python3"
  },
  "language_info": {
   "codemirror_mode": {
    "name": "ipython",
    "version": 3
   },
   "file_extension": ".py",
   "mimetype": "text/x-python",
   "name": "python",
   "nbconvert_exporter": "python",
   "pygments_lexer": "ipython3",
   "version": "3.5.3"
  }
 },
 "nbformat": 4,
 "nbformat_minor": 1
}
